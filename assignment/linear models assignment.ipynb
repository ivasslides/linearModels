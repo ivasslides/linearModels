{
 "cells": [
  {
   "cell_type": "markdown",
   "metadata": {},
   "source": [
    "# Assignment: Linear Models\n",
    "## Do three questions."
   ]
  },
  {
   "cell_type": "markdown",
   "metadata": {},
   "source": [
    "**Q1.** Please answer the following questions in your own words.\n",
    "\n",
    "1. What makes a model \"linear\"? \"Linear\" in what? \n",
    "\n",
    "A model if linear if there is a coefficient that can be applied to all x's in the equation y = b * x-sub-j to make y and x's have a linear relationship. This relationship can then be represented by a straight line or a flat plane in two dimensions. It is linear in terms that y = b1 * x1 + b2 * x2 + b3 * x3 + ... bn * xn + c."
   ]
  },
  {
   "cell_type": "markdown",
   "metadata": {},
   "source": [
    "2. How do you interpret the coefficient for a dummy/one-hot-encoded variable? (This is a trick question, and the trick involves how you handle the intercept of the model.)\n",
    "\n",
    "The way you interpret the coefficient for a dummy/one-hot-encoded variable depends on whether you are keeping the intercept of the regression when you create the dummy variable. If you keep all the dummies, you can replicate one of the regressors from a combination of the others. If you decide to keep the intercept of the regression, the coefficient for the one-hot-encoded variable becomes the difference between the predicted outcome of the category and the baseline category. "
   ]
  },
  {
   "cell_type": "markdown",
   "metadata": {},
   "source": [
    "3. Can linear regression be used for classification? Explain why, or why not.\n",
    "\n",
    "No, linear regression can't be used for classification. Linear regression deals more with prediciting continuous values, rather than discrete labelling. Using it for classificaion would most likely lead to bad probability estimates and predictions. "
   ]
  },
  {
   "cell_type": "markdown",
   "metadata": {},
   "source": [
    "4. What are signs that your linear model is over-fitting?\n",
    "\n",
    "Your linear model is over-fitting is you use too many variables and exploiting too many unique features of the training data. Some effects and signs of this are a high variance in the predictions you get and a big difference between training and validation errors."
   ]
  },
  {
   "cell_type": "markdown",
   "metadata": {},
   "source": [
    "5. Clearly explain multi-colinearity using the two-stage least squares technique.\n",
    "\n",
    "Multi-colinearity can be explained using the two-stage least squares technique of isolating the independent variables that are highly correlated to find their individual effects easier. The first step is to regress xy on the other independent variables besides xk, which isolates y. The second step is to regress xk on the residuals of y instead of the original. This provides a more stable estimate of xk's effect on y than before."
   ]
  },
  {
   "cell_type": "markdown",
   "metadata": {},
   "source": [
    "6. How can you incorporate nonlinear relationships between your target/response/dependent/outcome variable `y` and your features/control/response/independent variables `x` into your analysis?\n",
    "\n",
    "You can incorporate nonlinear relationships into your analysis by using polynomials, interaction terms, or log transformations. When you do these transformations of the x's, you get new variables that represent the nonlinear relationships."
   ]
  },
  {
   "cell_type": "markdown",
   "metadata": {},
   "source": [
    "7. What is the interpretation of the intercept? A slope coefficient for a variable? The coefficient for a dummy/one-hot-encoded variable?\n",
    "\n",
    "The interpretation of the intercept it the predicted value of y when the independent variables, such as x, are zero. The slope coefficient for a variable represents the change in y for a change in that variable, when all other variable are held constant. The coefficient for a dummy/one-hot-encoded variable represent the difference between the given categoryand the baselin category. "
   ]
  },
  {
   "cell_type": "markdown",
   "metadata": {},
   "source": [
    "**Q2.** Load ./data/Q1_clean.csv. The data include\n",
    "\n",
    "* Price per night\n",
    "* Review Scores Rating: The average rating for the property\n",
    "* Neighbourhood : The bourough of NYC. Note the space, or rename the variable.\n",
    "* Property Type: The kind of dwelling\n",
    "* Room Type: The kind of space being rented"
   ]
  },
  {
   "cell_type": "code",
   "execution_count": 1,
   "metadata": {},
   "outputs": [],
   "source": [
    "import pandas as pd \n",
    "import numpy as np\n",
    "import seaborn as sns\n",
    "import matplotlib.pyplot as plt\n",
    "from sklearn.linear_model import LinearRegression\n",
    "from sklearn.model_selection import train_test_split\n",
    "from sklearn.metrics import mean_squared_error, r2_score"
   ]
  },
  {
   "cell_type": "markdown",
   "metadata": {},
   "source": [
    "1. Compute the average prices and scores by `Neighbourhood`; which bourough is the most expensive on average? Create a kernel density plot of price and log price, grouping by `Neighbourhood`.\n",
    "\n",
    "Manhattan is the most expensive borough on average. "
   ]
  },
  {
   "cell_type": "code",
   "execution_count": 2,
   "metadata": {},
   "outputs": [
    {
     "data": {
      "text/html": [
       "<div>\n",
       "<style scoped>\n",
       "    .dataframe tbody tr th:only-of-type {\n",
       "        vertical-align: middle;\n",
       "    }\n",
       "\n",
       "    .dataframe tbody tr th {\n",
       "        vertical-align: top;\n",
       "    }\n",
       "\n",
       "    .dataframe thead th {\n",
       "        text-align: right;\n",
       "    }\n",
       "</style>\n",
       "<table border=\"1\" class=\"dataframe\">\n",
       "  <thead>\n",
       "    <tr style=\"text-align: right;\">\n",
       "      <th></th>\n",
       "      <th>Price</th>\n",
       "      <th>Review Scores Rating</th>\n",
       "      <th>Neighbourhood</th>\n",
       "      <th>Property Type</th>\n",
       "      <th>Room Type</th>\n",
       "    </tr>\n",
       "  </thead>\n",
       "  <tbody>\n",
       "    <tr>\n",
       "      <th>0</th>\n",
       "      <td>549</td>\n",
       "      <td>96.0</td>\n",
       "      <td>Manhattan</td>\n",
       "      <td>Apartment</td>\n",
       "      <td>Private room</td>\n",
       "    </tr>\n",
       "    <tr>\n",
       "      <th>1</th>\n",
       "      <td>149</td>\n",
       "      <td>100.0</td>\n",
       "      <td>Brooklyn</td>\n",
       "      <td>Apartment</td>\n",
       "      <td>Entire home/apt</td>\n",
       "    </tr>\n",
       "    <tr>\n",
       "      <th>2</th>\n",
       "      <td>250</td>\n",
       "      <td>100.0</td>\n",
       "      <td>Manhattan</td>\n",
       "      <td>Apartment</td>\n",
       "      <td>Entire home/apt</td>\n",
       "    </tr>\n",
       "    <tr>\n",
       "      <th>3</th>\n",
       "      <td>90</td>\n",
       "      <td>94.0</td>\n",
       "      <td>Brooklyn</td>\n",
       "      <td>Apartment</td>\n",
       "      <td>Private room</td>\n",
       "    </tr>\n",
       "    <tr>\n",
       "      <th>4</th>\n",
       "      <td>270</td>\n",
       "      <td>90.0</td>\n",
       "      <td>Manhattan</td>\n",
       "      <td>Apartment</td>\n",
       "      <td>Entire home/apt</td>\n",
       "    </tr>\n",
       "  </tbody>\n",
       "</table>\n",
       "</div>"
      ],
      "text/plain": [
       "   Price  Review Scores Rating Neighbourhood Property Type        Room Type\n",
       "0    549                  96.0     Manhattan     Apartment     Private room\n",
       "1    149                 100.0      Brooklyn     Apartment  Entire home/apt\n",
       "2    250                 100.0     Manhattan     Apartment  Entire home/apt\n",
       "3     90                  94.0      Brooklyn     Apartment     Private room\n",
       "4    270                  90.0     Manhattan     Apartment  Entire home/apt"
      ]
     },
     "execution_count": 2,
     "metadata": {},
     "output_type": "execute_result"
    }
   ],
   "source": [
    "# load data frame\n",
    "qq = pd.read_csv(\"./hw data/Q1_clean.csv\")\n",
    "# print out head & columns\n",
    "qq.head()\n",
    "qq.columns\n",
    "\n",
    "# rename the Neighbourhood column to get rid of the space at the end\n",
    "qq.rename(columns={'Neighbourhood ' : 'Neighbourhood'}, inplace=True)\n",
    "qq.head()"
   ]
  },
  {
   "cell_type": "code",
   "execution_count": 3,
   "metadata": {},
   "outputs": [
    {
     "name": "stdout",
     "output_type": "stream",
     "text": [
      "Price:\n",
      " Neighbourhood\n",
      "Bronx             75.276498\n",
      "Brooklyn         127.747378\n",
      "Manhattan        183.664286\n",
      "Queens            96.857233\n",
      "Staten Island    146.166667\n",
      "Name: Price, dtype: float64\n",
      "Scores:\n",
      " Neighbourhood\n",
      "Bronx            91.654378\n",
      "Brooklyn         92.363497\n",
      "Manhattan        91.801496\n",
      "Queens           91.549057\n",
      "Staten Island    90.843750\n",
      "Name: Review Scores Rating, dtype: float64\n"
     ]
    }
   ],
   "source": [
    "# mean price grouped by neighbourhood\n",
    "p = qq.groupby('Neighbourhood')['Price'].mean()\n",
    "\n",
    "# mean scores grouped by neighbourhood\n",
    "s = qq.groupby('Neighbourhood')['Review Scores Rating'].mean()\n",
    "\n",
    "print(\"Price:\\n\" , p)\n",
    "print(\"Scores:\\n\" , s)"
   ]
  },
  {
   "cell_type": "code",
   "execution_count": 4,
   "metadata": {},
   "outputs": [
    {
     "data": {
      "image/png": "[encoded data removed]",
      "text/plain": [
       "<Figure size 1000x600 with 2 Axes>"
      ]
     },
     "metadata": {},
     "output_type": "display_data"
    }
   ],
   "source": [
    "# kernel density plot of price & log price, grouped by neighbourhood\n",
    "# add column in qq for log price\n",
    "qq['Log Price'] = np.log(qq['Price'])\n",
    "\n",
    "# create two subplots \n",
    "fig, (ax1, ax2) = plt.subplots(1, 2, figsize=(10,6))\n",
    "\n",
    "sns.kdeplot(data=qq, x='Price', hue='Neighbourhood', ax=ax1)\n",
    "ax1.set_title(\"KDE for Price\")\n",
    "\n",
    "sns.kdeplot(data=qq, x='Log Price', hue='Neighbourhood', ax=ax2)\n",
    "ax2.set_title(\"KDE for Log Price\")\n",
    "\n",
    "plt.show() "
   ]
  },
  {
   "cell_type": "markdown",
   "metadata": {},
   "source": [
    "2. Regress price on `Neighbourhood` by creating the appropriate dummy/one-hot-encoded variables, without an intercept in the linear model and using all the data. Compare the coefficients in the regression to the table from part 1. What pattern do you see? What are the coefficients in a regression of a continuous variable on one categorical variable?\n",
    "\n",
    "The regression coefficients are the same as the mean prices calculated earlier. The coefficients in a regression of a continuous variables on one categorical variable are the difference in the continuous variable between the different categories of the categorical variable. "
   ]
  },
  {
   "cell_type": "code",
   "execution_count": 5,
   "metadata": {},
   "outputs": [
    {
     "name": "stdout",
     "output_type": "stream",
     "text": [
      "Regression:\n",
      "         variable  coefficient\n",
      "0       Brooklyn   127.747378\n",
      "1      Manhattan   183.664286\n",
      "2         Queens    96.857233\n",
      "3  Staten Island   146.166667\n",
      "\n",
      "Price:\n",
      " Neighbourhood\n",
      "Bronx             75.276498\n",
      "Brooklyn         127.747378\n",
      "Manhattan        183.664286\n",
      "Queens            96.857233\n",
      "Staten Island    146.166667\n",
      "Name: Price, dtype: float64\n"
     ]
    }
   ],
   "source": [
    "# create dummy variables for Neighbourhood without intercept\n",
    "X = pd.get_dummies(qq['Neighbourhood'], drop_first=True)\n",
    "y = qq['Price']\n",
    "\n",
    "# create model without intercept and fit \n",
    "r = LinearRegression(fit_intercept=False).fit(X, y)\n",
    "\n",
    "# put coefficients into dataframe\n",
    "results = pd.DataFrame({'variable':r.feature_names_in_, 'coefficient': r.coef_})\n",
    "\n",
    "# print coefficients\n",
    "print(\"Regression:\\n\" , results)\n",
    "\n",
    "# reprint either table for comparison\n",
    "print(\"\\nPrice:\\n\" , p)"
   ]
  },
  {
   "cell_type": "markdown",
   "metadata": {},
   "source": [
    "3. Repeat part 2, but leave an intercept in the linear model. How do you have to handle the creation of the dummies differently? What is the intercept? Interpret the coefficients. How can I get the coefficients in part 2 from these new coefficients?\n",
    "\n",
    "For the creation of the dummies, you have to set drop_first equal to False to include the reference. The intercept is now the mean price of the reference category. These coefficients represent the difference between the mean of the reference category and the mean of that category. To get the coefficients in part 2 from these new coefficients, just add these coefficients to the intercept of the dummy variable. "
   ]
  },
  {
   "cell_type": "code",
   "execution_count": 6,
   "metadata": {},
   "outputs": [
    {
     "name": "stdout",
     "output_type": "stream",
     "text": [
      "Regression:\n",
      "         variable  coefficient\n",
      "0          Bronx   -50.665915\n",
      "1       Brooklyn     1.804966\n",
      "2      Manhattan    57.721874\n",
      "3         Queens   -29.085180\n",
      "4  Staten Island    20.224254\n"
     ]
    }
   ],
   "source": [
    "# create dummy variables for Neighbourhood with intercept\n",
    "X_f = pd.get_dummies(qq['Neighbourhood'], drop_first=False)\n",
    "y = qq['Price']\n",
    "\n",
    "# create model with intercept and fit \n",
    "r = LinearRegression(fit_intercept=True).fit(X_f, y)\n",
    "\n",
    "# put coefficients into dataframe\n",
    "results = pd.DataFrame({'variable':r.feature_names_in_, 'coefficient': r.coef_})\n",
    "\n",
    "# print coefficients\n",
    "print(\"Regression:\\n\" , results)"
   ]
  },
  {
   "cell_type": "markdown",
   "metadata": {},
   "source": [
    "4. Split the sample 80/20 into a training and a test set. Run a regression of `Price` on `Review Scores Rating` and `Neighbourhood`. What is the R^2 and RMSE on the test set? What is the coefficient on `Review Scores Rating`? What is the most expensive kind of property you can rent?\n",
    "\n",
    "The R^2 on the test set is 0.046. The RMSE on the test set is 140.92. The coefficient on `Review Scores Rating` is 1.21. The most expensive neighbourhood to rent in is Manhattan."
   ]
  },
  {
   "cell_type": "code",
   "execution_count": 7,
   "metadata": {},
   "outputs": [
    {
     "name": "stdout",
     "output_type": "stream",
     "text": [
      "R^2:  0.04592588381735074\n",
      "RMSE:  140.91821103729345\n",
      "Coefficient:  1.2118517840632497\n",
      "                             Coefficient\n",
      "Review Scores Rating            1.211852\n",
      "Neighbourhood_Bronx           -40.524554\n",
      "Neighbourhood_Brooklyn         11.031417\n",
      "Neighbourhood_Manhattan        66.888999\n",
      "Neighbourhood_Queens          -20.325981\n",
      "Neighbourhood_Staten Island   -17.069881\n"
     ]
    }
   ],
   "source": [
    "# create X and y from shorten dataframe\n",
    "df = qq[['Price', 'Review Scores Rating', 'Neighbourhood']]\n",
    "\n",
    "X = pd.get_dummies(df, columns=['Neighbourhood'], drop_first=False)\n",
    "y = X.pop('Price')\n",
    "\n",
    "# splitting sample\n",
    "X_train, X_test, y_train, y_test = train_test_split(X, y, test_size=0.2, random_state=42)\n",
    "\n",
    "# run regression on the test set  \n",
    "m = LinearRegression().fit(X_train, y_train)\n",
    "\n",
    "# making prediction \n",
    "y_pred = m.predict(X_test)\n",
    "\n",
    "# computing r^2 on test set \n",
    "r2 = r2_score(y_test, y_pred)\n",
    "\n",
    "# computing rmse on test set \n",
    "# rmse = sqrt(mse)\n",
    "rmse = np.sqrt(mean_squared_error(y_test, y_pred))\n",
    "\n",
    "# get coefficients on RSR \n",
    "c = m.coef_[X.columns.get_loc('Review Scores Rating')]\n",
    "\n",
    "# print everything\n",
    "print(\"R^2: \" , r2)\n",
    "print(\"RMSE: \" , rmse)\n",
    "print(\"Coefficient: \" , c)\n",
    "\n",
    "# print out all neighbourhood coefficients to see which is the most expensive \n",
    "d = pd.DataFrame(m.coef_, index=X.columns, columns=['Coefficient'])\n",
    "print(d)\n"
   ]
  },
  {
   "cell_type": "markdown",
   "metadata": {},
   "source": [
    "5. Split the sample 80/20 into a training and a test set. Run a regression of `Price` on `Review Scores Rating` and `Neighbourhood` and `Property Type`. What is the R^2 and RMSE on the test set? What is the coefficient on `Review Scores Rating`? What is the most expensive kind of property you can rent?\n",
    "\n",
    "The R^2 for the test set is 0.054. The RMSE for the test set is 140.3. The coefficient on `Review Scores Rating` is 1.20. The most expensive kind of property you can rent is a Bungalow."
   ]
  },
  {
   "cell_type": "code",
   "execution_count": 8,
   "metadata": {},
   "outputs": [
    {
     "name": "stdout",
     "output_type": "stream",
     "text": [
      "R^2:  0.0542427135512451\n",
      "RMSE:  140.30266238276286\n",
      "Coefficient:  1.2010106602298714\n",
      "                               Coefficient\n",
      "Review Scores Rating              1.201011\n",
      "Neighbourhood_Bronx             -44.634163\n",
      "Neighbourhood_Brooklyn           14.999540\n",
      "Neighbourhood_Manhattan          76.371357\n",
      "Neighbourhood_Queens            -17.803546\n",
      "Neighbourhood_Staten Island     -28.933189\n",
      "Property Type_Apartment          -3.591050\n",
      "Property Type_Bed & Breakfast   -32.294971\n",
      "Property Type_Boat               43.479369\n",
      "Property Type_Bungalow           80.381390\n",
      "Property Type_Cabin               8.798571\n",
      "Property Type_Camper/RV         -17.408176\n",
      "Property Type_Castle            -45.401599\n",
      "Property Type_Chalet            -33.828770\n",
      "Property Type_Condominium        58.316112\n",
      "Property Type_Dorm              -45.868808\n",
      "Property Type_House              31.120296\n",
      "Property Type_Hut              -138.195535\n",
      "Property Type_Lighthouse        -95.029781\n",
      "Property Type_Loft               66.299974\n",
      "Property Type_Other              45.658711\n",
      "Property Type_Townhouse          40.519718\n",
      "Property Type_Treehouse           6.734132\n",
      "Property Type_Villa              30.310418\n"
     ]
    }
   ],
   "source": [
    "# create X and y from shorten dataframe\n",
    "df = qq[['Price', 'Review Scores Rating', 'Neighbourhood', 'Property Type']]\n",
    "\n",
    "X = pd.get_dummies(df, columns=['Neighbourhood', 'Property Type'], drop_first=False)\n",
    "y = X.pop('Price')\n",
    "\n",
    "# splitting sample\n",
    "X_train, X_test, y_train, y_test = train_test_split(X, y, test_size=0.2, random_state=42)\n",
    "\n",
    "# run regression on the test set  \n",
    "m = LinearRegression().fit(X_train, y_train)\n",
    "\n",
    "# making prediction \n",
    "y_pred = m.predict(X_test)\n",
    "\n",
    "# computing r^2 on test set \n",
    "r2 = r2_score(y_test, y_pred)\n",
    "\n",
    "# computing rmse on test set \n",
    "# rmse = sqrt(mse)\n",
    "rmse = np.sqrt(mean_squared_error(y_test, y_pred))\n",
    "\n",
    "# get coefficients on RSR \n",
    "c = m.coef_[X.columns.get_loc('Review Scores Rating')]\n",
    "\n",
    "# print everything\n",
    "print(\"R^2: \" , r2)\n",
    "print(\"RMSE: \" , rmse)\n",
    "print(\"Coefficient: \" , c)\n",
    "\n",
    "# print out all  coefficients to see which is the most expensive \n",
    "d = pd.DataFrame(m.coef_, index=X.columns, columns=['Coefficient'])\n",
    "print(d)"
   ]
  },
  {
   "cell_type": "markdown",
   "metadata": {},
   "source": [
    "6. What does the coefficient on `Review Scores Rating` mean if it changes from part 4 to 5? Hint: Think about how multiple linear regression works.\n",
    "\n",
    "If the coefficient on  `Review Scores Rating` changes from part 4 to part 5, it means that `Property Type` is correlated with `Review Scores Rating` and `Price`. Multiple linear regression could possibly include indirect effects from omitted variables, like Property Type in part 4. After adding that omitted variable back in, the regression model can separately look at the effects of it. "
   ]
  },
  {
   "cell_type": "markdown",
   "metadata": {},
   "source": [
    "**Q4.** This question refers to the heart_hw.csv data. It contains three variables:\n",
    "\n",
    "* y: Whether the individual survived for three years, coded 0 for death and 1 for survival\n",
    "* age: Patient's age\n",
    "* transplant: control for not receiving a transplant and treatment for receiving a transplant\n",
    "\n",
    "Since a heart transplant is a dangerous operation and even people who successfully get heart transplants might suffer later complications, we want to look at whether a group of transplant recipients tends to survive longer than a comparison group who does not get the procedure."
   ]
  },
  {
   "cell_type": "code",
   "execution_count": 9,
   "metadata": {},
   "outputs": [
    {
     "data": {
      "text/html": [
       "<div>\n",
       "<style scoped>\n",
       "    .dataframe tbody tr th:only-of-type {\n",
       "        vertical-align: middle;\n",
       "    }\n",
       "\n",
       "    .dataframe tbody tr th {\n",
       "        vertical-align: top;\n",
       "    }\n",
       "\n",
       "    .dataframe thead th {\n",
       "        text-align: right;\n",
       "    }\n",
       "</style>\n",
       "<table border=\"1\" class=\"dataframe\">\n",
       "  <thead>\n",
       "    <tr style=\"text-align: right;\">\n",
       "      <th></th>\n",
       "      <th>age</th>\n",
       "      <th>transplant</th>\n",
       "      <th>y</th>\n",
       "    </tr>\n",
       "  </thead>\n",
       "  <tbody>\n",
       "    <tr>\n",
       "      <th>0</th>\n",
       "      <td>53</td>\n",
       "      <td>control</td>\n",
       "      <td>0</td>\n",
       "    </tr>\n",
       "    <tr>\n",
       "      <th>1</th>\n",
       "      <td>43</td>\n",
       "      <td>control</td>\n",
       "      <td>0</td>\n",
       "    </tr>\n",
       "    <tr>\n",
       "      <th>2</th>\n",
       "      <td>52</td>\n",
       "      <td>control</td>\n",
       "      <td>0</td>\n",
       "    </tr>\n",
       "    <tr>\n",
       "      <th>3</th>\n",
       "      <td>52</td>\n",
       "      <td>control</td>\n",
       "      <td>0</td>\n",
       "    </tr>\n",
       "    <tr>\n",
       "      <th>4</th>\n",
       "      <td>54</td>\n",
       "      <td>control</td>\n",
       "      <td>0</td>\n",
       "    </tr>\n",
       "  </tbody>\n",
       "</table>\n",
       "</div>"
      ],
      "text/plain": [
       "   age transplant  y\n",
       "0   53    control  0\n",
       "1   43    control  0\n",
       "2   52    control  0\n",
       "3   52    control  0\n",
       "4   54    control  0"
      ]
     },
     "execution_count": 9,
     "metadata": {},
     "output_type": "execute_result"
    }
   ],
   "source": [
    "# load data\n",
    "hh = pd.read_csv(\"./hw data/heart_hw.csv\")\n",
    "# getting rid of extra index column\n",
    "hh = hh[['age', 'transplant', 'y']]\n",
    "hh.head()"
   ]
  },
  {
   "cell_type": "markdown",
   "metadata": {},
   "source": [
    "1. Compute (a) the proportion of people who survive in the control group who do not receive a transplant, and (b) the difference between the proportion of people who survive in the treatment group and the proportion of people who survive in the control group. In a randomized controlled trial, this is called the average treatment effect.\n",
    "\n",
    "The proportion of people who survive in the control group who do not receive a transplant is 0.118. The difference between the proportion of people who survive in the treatment group and the proportion of people who survive in the control group is 0.23"
   ]
  },
  {
   "cell_type": "code",
   "execution_count": 10,
   "metadata": {},
   "outputs": [
    {
     "name": "stdout",
     "output_type": "stream",
     "text": [
      "0.11764705882352941\n"
     ]
    }
   ],
   "source": [
    "# a \n",
    "# when transplant = control && y == 1 \n",
    "\n",
    "# filter control group\n",
    "c_group = hh[hh['transplant'] == 'control']\n",
    "# num of survivors in the control group\n",
    "sur = (c_group['y'] == 1).sum()\n",
    "# total num of ppl in control group\n",
    "total = len(c_group)\n",
    "\n",
    "# calculate proportions\n",
    "prop = sur / total\n",
    "print(prop)"
   ]
  },
  {
   "cell_type": "code",
   "execution_count": 11,
   "metadata": {},
   "outputs": [
    {
     "name": "stdout",
     "output_type": "stream",
     "text": [
      "0.23017902813299232\n"
     ]
    }
   ],
   "source": [
    "# b \n",
    "# proportion of survive in treatment group \n",
    "t_group = hh[hh['transplant'] == 'treatment']\n",
    "surv = (t_group['y'] == 1).sum()\n",
    "totalt = len(t_group)\n",
    "propt = surv / totalt\n",
    "\n",
    "# proportion of survive in control group\n",
    "prop \n",
    "\n",
    "# difference\n",
    "d = propt - prop\n",
    "print(d)"
   ]
  },
  {
   "cell_type": "markdown",
   "metadata": {},
   "source": [
    "2. Regress `y` on `transplant` using a linear model with a constant. How does the constant/intercept of the regression and the coefficient on transplant compare to your answers from part 1? Explain the relationship clearly.\n",
    "\n",
    "The intercept of the regression is 0.117, which is very similar to the proportion of people who survive in the control group, of 0.118. The coefficient on transplant is the same as the different in the proportion of people who survive in the control group and the proportion of people who survive in the treatment group. The intercept of the regression represents the proportion of survivors in the control group because it is the baseline, and when transplant = 0. The coefficient on transplant represents the difference in the number of people who survive in each group. "
   ]
  },
  {
   "cell_type": "code",
   "execution_count": 12,
   "metadata": {},
   "outputs": [
    {
     "name": "stdout",
     "output_type": "stream",
     "text": [
      "Intercept:  0.11764705882352922\n",
      "Coefficient:  0.2301790281329926\n"
     ]
    },
    {
     "name": "stderr",
     "output_type": "stream",
     "text": [
      "C:\\Users\\ilian\\AppData\\Local\\Temp\\ipykernel_21732\\2756676286.py:2: FutureWarning: Downcasting behavior in `replace` is deprecated and will be removed in a future version. To retain the old behavior, explicitly call `result.infer_objects(copy=False)`. To opt-in to the future behavior, set `pd.set_option('future.no_silent_downcasting', True)`\n",
      "  hh['transplantnum'] = hh['transplant'].replace({'control': 0, 'treatment': 1})\n"
     ]
    }
   ],
   "source": [
    "# replace transplant values w/ numbers -> control = 0 and treatment = 1\n",
    "hh['transplantnum'] = hh['transplant'].replace({'control': 0, 'treatment': 1})\n",
    "\n",
    "# defining X and y\n",
    "X = hh['transplantnum']\n",
    "y = hh['y']\n",
    "\n",
    "# add constant of ones\n",
    "X = np.c_[np.ones(X.shape[0]), X]\n",
    "\n",
    "# regress y on transplant\n",
    "m = LinearRegression(fit_intercept=False).fit(X, y)\n",
    "\n",
    "# get coefficients\n",
    "i, coef = m.coef_\n",
    "\n",
    "print(\"Intercept: \" , i)\n",
    "print(\"Coefficient: \" , coef)"
   ]
  },
  {
   "cell_type": "markdown",
   "metadata": {},
   "source": [
    "3. We'd like to include `age` in the regression, since it's reasonable to expect that older patients are less likely to survive an extensive surgery like a heart transplant. Regress `y` on a constant, transplant, and age. How does the intercept change?\n",
    "\n",
    "The intercept changes to 0.702. The intercept now represents the proportion of survivors in the control group who have an age of 0. "
   ]
  },
  {
   "cell_type": "code",
   "execution_count": 13,
   "metadata": {},
   "outputs": [
    {
     "name": "stdout",
     "output_type": "stream",
     "text": [
      "Intercept:  0.7019569721740964\n",
      "Coefficient of transplant:  0.26470168650367526\n",
      "Coefficient of age:  -0.013607217160218676\n"
     ]
    },
    {
     "name": "stderr",
     "output_type": "stream",
     "text": [
      "C:\\Users\\ilian\\AppData\\Local\\Temp\\ipykernel_21732\\3055558319.py:2: FutureWarning: Downcasting behavior in `replace` is deprecated and will be removed in a future version. To retain the old behavior, explicitly call `result.infer_objects(copy=False)`. To opt-in to the future behavior, set `pd.set_option('future.no_silent_downcasting', True)`\n",
      "  hh['transplantnum'] = hh['transplant'].replace({'control': 0, 'treatment': 1})\n"
     ]
    }
   ],
   "source": [
    "# replace transplant values w/ numbers -> control = 0 and treatment = 1\n",
    "hh['transplantnum'] = hh['transplant'].replace({'control': 0, 'treatment': 1})\n",
    "\n",
    "# defining X and y\n",
    "X = hh[['transplantnum', 'age']]\n",
    "y = hh['y']\n",
    "\n",
    "# add constant of ones\n",
    "X = np.c_[np.ones(X.shape[0]), X]\n",
    "\n",
    "# regress y on transplant\n",
    "m = LinearRegression(fit_intercept=False).fit(X, y)\n",
    "\n",
    "# get coefficients\n",
    "i, coef_t, coef_a = m.coef_\n",
    "\n",
    "print(\"Intercept: \" , i)\n",
    "print(\"Coefficient of transplant: \" , coef_t)\n",
    "print(\"Coefficient of age: \" , coef_a)"
   ]
  },
  {
   "cell_type": "markdown",
   "metadata": {},
   "source": [
    "4. Build a more flexible model that allows for non-linear age effects and interactions between age and treatment. Use a train-test split to validate your model. Estimate your best model, predict the survival probability by age, and plot your results conditional on receiving a transplant and not. Describe what you see.\n",
    "\n",
    "The plot has quadratic functions instead of linear functions. The control group has a lower overall predicted survival probability than the transplant group. However, the transplant group has a much larger distribution of predicted survival probability than the control group. "
   ]
  },
  {
   "cell_type": "code",
   "execution_count": 14,
   "metadata": {},
   "outputs": [
    {
     "data": {
      "image/png": "[encoded data removed]",
      "text/plain": [
       "<Figure size 640x480 with 1 Axes>"
      ]
     },
     "metadata": {},
     "output_type": "display_data"
    }
   ],
   "source": [
    "# create quadratic term for age \n",
    "hh['age2'] = hh['age'] ** 2\n",
    "hh['at interaction'] = hh['age'] * hh['transplantnum']\n",
    "\n",
    "# define X and y \n",
    "X = hh[['age', 'age2', 'transplantnum', 'at interaction']]\n",
    "y = hh['y']\n",
    "\n",
    "# splitting sample\n",
    "X_train, X_test, y_train, y_test = train_test_split(X, y, test_size=0.2, random_state=42)\n",
    "\n",
    "# run regression on the test set  \n",
    "m = LinearRegression().fit(X_train, y_train)\n",
    "\n",
    "# making prediction \n",
    "y_pred = m.predict(X_test)\n",
    "\n",
    "# computing r^2 on test set \n",
    "r2 = r2_score(y_test, y_pred)\n",
    "\n",
    "# computing rmse on test set \n",
    "# rmse = sqrt(mse)\n",
    "rmse = np.sqrt(mean_squared_error(y_test, y_pred))\n",
    "\n",
    "# predict survival probability by age w dataframe where transplant is constant \n",
    "a = np.linspace(hh['age'].min(), hh['age'].max(), 100)\n",
    "df_control = pd.DataFrame({'age': a, 'age2': a ** 2, 'transplantnum': 0, 'at interaction': a * 0})\n",
    "\n",
    "# predicting control group \n",
    "pred_control = m.predict(df_control)\n",
    "\n",
    "# dataframe where transplant is treatment \n",
    "df_treatment = pd.DataFrame({'age': a, 'age2': a ** 2, 'transplantnum': 1, 'at interaction': a * 1})\n",
    "\n",
    "# predicting treatment group \n",
    "pred_treatment = m.predict(df_treatment)\n",
    "\n",
    "# plotting results \n",
    "plt.plot(a, pred_control, label='Control Group', color='blue')\n",
    "plt.plot(a, pred_treatment, label='Transplant Group', color='red')\n",
    "plt.xlabel(\"Age\")\n",
    "plt.ylabel(\"Predicted Survival Probability\")\n",
    "plt.title(\"Predicted Survival Probability Conditional on Receiving Transplant or Not\")\n",
    "plt.legend()\n",
    "plt.show()"
   ]
  },
  {
   "cell_type": "markdown",
   "metadata": {},
   "source": [
    "5. Imagine someone suggests using these kinds of models to select who receives organ transplants; perhaps the CDC or NIH starts using a scoring algorithm to decide who is contacted about a potential organ. What are your concerns about how it is built and how it is deployed?\n",
    "\n",
    "My concerns about how it is built is that it is not trained on a large enough dataset to be super accurate. How it is trained affects how accurate the model is. \n",
    "My concerns about how it is deployed is that it will be trusted completely. There is always a chance that these models are incorrect or have some sort of error associated with them. If they are trained well with large datasets it is reasonable to trust them, however sometimes this is not the case. If they are blindly trusted, someone who needs the transplant and has a high chance of surviving might not get it because the model predicts them as not being a good candidate. The same could happen in the other direction, if someone receives a transplant but has some underlying medical conditions that could affect the chances of them surviving. "
   ]
  }
 ],
 "metadata": {
  "kernelspec": {
   "display_name": "Python 3",
   "language": "python",
   "name": "python3"
  },
  "language_info": {
   "codemirror_mode": {
    "name": "ipython",
    "version": 3
   },
   "file_extension": ".py",
   "mimetype": "text/x-python",
   "name": "python",
   "nbconvert_exporter": "python",
   "pygments_lexer": "ipython3",
   "version": "3.12.5"
  }
 },
 "nbformat": 4,
 "nbformat_minor": 2
}
